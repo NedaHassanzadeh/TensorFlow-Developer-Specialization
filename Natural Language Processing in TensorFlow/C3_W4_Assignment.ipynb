{
  "nbformat": 4,
  "nbformat_minor": 0,
  "metadata": {
    "accelerator": "GPU",
    "colab": {
      "name": "C3_W4_Assignment.ipynb",
      "provenance": [],
      "toc_visible": true
    },
    "kernelspec": {
      "display_name": "Python 3",
      "language": "python",
      "name": "python3"
    },
    "language_info": {
      "codemirror_mode": {
        "name": "ipython",
        "version": 3
      },
      "file_extension": ".py",
      "mimetype": "text/x-python",
      "name": "python",
      "nbconvert_exporter": "python",
      "pygments_lexer": "ipython3",
      "version": "3.8.5"
    }
  },
  "cells": [
    {
      "cell_type": "code",
      "metadata": {
        "id": "T2XpcPvbXalN"
      },
      "source": [
        "#@title Licensed under the Apache License, Version 2.0 (the \"License\");\n",
        "# you may not use this file except in compliance with the License.\n",
        "# You may obtain a copy of the License at\n",
        "#\n",
        "# https://www.apache.org/licenses/LICENSE-2.0\n",
        "#\n",
        "# Unless required by applicable law or agreed to in writing, software\n",
        "# distributed under the License is distributed on an \"AS IS\" BASIS,\n",
        "# WITHOUT WARRANTIES OR CONDITIONS OF ANY KIND, either express or implied.\n",
        "# See the License for the specific language governing permissions and\n",
        "# limitations under the License."
      ],
      "execution_count": 6,
      "outputs": []
    },
    {
      "cell_type": "markdown",
      "metadata": {
        "id": "eK88h3Y5XalO"
      },
      "source": [
        "**Note:** This notebook can run using TensorFlow 2.5.0"
      ]
    },
    {
      "cell_type": "code",
      "metadata": {
        "id": "zX4Kg8DUTKWO"
      },
      "source": [
        "#!pip install tensorflow==2.5.0"
      ],
      "execution_count": 7,
      "outputs": []
    },
    {
      "cell_type": "code",
      "metadata": {
        "id": "BOwsuGQQY9OL"
      },
      "source": [
        "from tensorflow.keras.preprocessing.sequence import pad_sequences\n",
        "from tensorflow.keras.layers import Embedding, LSTM, Dense, Dropout, Bidirectional\n",
        "from tensorflow.keras.preprocessing.text import Tokenizer\n",
        "from tensorflow.keras.models import Sequential\n",
        "from tensorflow.keras.optimizers import Adam\n",
        "### YOUR CODE HERE\n",
        "from tensorflow.keras import regularizers\n",
        "# Figure out how to import regularizers\n",
        "###\n",
        "import tensorflow.keras.utils as ku \n",
        "import numpy as np "
      ],
      "execution_count": 8,
      "outputs": []
    },
    {
      "cell_type": "code",
      "metadata": {
        "id": "PRnDnCW-Z7qv",
        "outputId": "a88ca10b-fed8-4be4-87bf-061eb9c19af6",
        "colab": {
          "base_uri": "https://localhost:8080/"
        }
      },
      "source": [
        "tokenizer = Tokenizer()\n",
        "\n",
        "# sonnets.txt\n",
        "!gdown --id 108jAePKK4R3BVYBbYJZ32JWUwxeMg20K\n",
        "\n",
        "data = open('./sonnets.txt').read()\n",
        "\n",
        "corpus = data.lower().split(\"\\n\")\n",
        "\n",
        "\n",
        "tokenizer.fit_on_texts(corpus)\n",
        "total_words = len(tokenizer.word_index) + 1\n",
        "\n",
        "# create input sequences using list of tokens\n",
        "input_sequences = []\n",
        "for line in corpus:\n",
        "\ttoken_list = tokenizer.texts_to_sequences([line])[0]\n",
        "\tfor i in range(1, len(token_list)):\n",
        "\t\tn_gram_sequence = token_list[:i+1]\n",
        "\t\tinput_sequences.append(n_gram_sequence)\n",
        "\n",
        "\n",
        "# pad sequences \n",
        "max_sequence_len = max([len(x) for x in input_sequences])\n",
        "input_sequences = np.array(pad_sequences(input_sequences, maxlen=max_sequence_len, padding='pre'))\n",
        "\n",
        "# create predictors and label\n",
        "predictors, label = input_sequences[:,:-1],input_sequences[:,-1]\n",
        "\n",
        "label = ku.to_categorical(label, num_classes=total_words)"
      ],
      "execution_count": 9,
      "outputs": [
        {
          "output_type": "stream",
          "name": "stdout",
          "text": [
            "Downloading...\n",
            "From: https://drive.google.com/uc?id=108jAePKK4R3BVYBbYJZ32JWUwxeMg20K\n",
            "To: /content/sonnets.txt\n",
            "\r  0% 0.00/93.6k [00:00<?, ?B/s]\r100% 93.6k/93.6k [00:00<00:00, 21.0MB/s]\n"
          ]
        }
      ]
    },
    {
      "cell_type": "code",
      "metadata": {
        "id": "w9vH8Y59ajYL",
        "outputId": "403dbd4b-9c46-4fce-f5c1-7797016347b1",
        "colab": {
          "base_uri": "https://localhost:8080/"
        }
      },
      "source": [
        "### START CODE HERE\n",
        "model = Sequential()\n",
        "model.add(Embedding(total_words, 100, input_length=max_sequence_len-1)) # Your Embedding Layer)\n",
        "model.add(Bidirectional(LSTM(150, return_sequences = True))) # An LSTM Layer)\n",
        "model.add(Dropout(0.2)) # A dropout layer)\n",
        "model.add(LSTM(100))  # Another LSTM Layer)\n",
        "model.add(Dense(total_words/2, activation='relu', kernel_regularizer=regularizers.l2(0.01))) # A Dense Layer including regularizers)\n",
        "model.add(Dense(total_words, activation='softmax')) # A Dense Layer\n",
        "# Pick an optimizer\n",
        "model.compile(optimizer='adam', loss='categorical_crossentropy', metrics=['accuracy'])# Pick a loss function and an optimizer)\n",
        "### END CODE HERE\n",
        "    \n",
        "print(model.summary())"
      ],
      "execution_count": 10,
      "outputs": [
        {
          "output_type": "stream",
          "name": "stdout",
          "text": [
            "Model: \"sequential_1\"\n",
            "_________________________________________________________________\n",
            "Layer (type)                 Output Shape              Param #   \n",
            "=================================================================\n",
            "embedding_1 (Embedding)      (None, 10, 100)           321100    \n",
            "_________________________________________________________________\n",
            "bidirectional_1 (Bidirection (None, 10, 300)           301200    \n",
            "_________________________________________________________________\n",
            "dropout_1 (Dropout)          (None, 10, 300)           0         \n",
            "_________________________________________________________________\n",
            "lstm_3 (LSTM)                (None, 100)               160400    \n",
            "_________________________________________________________________\n",
            "dense (Dense)                (None, 1605)              162105    \n",
            "_________________________________________________________________\n",
            "dense_1 (Dense)              (None, 3211)              5156866   \n",
            "=================================================================\n",
            "Total params: 6,101,671\n",
            "Trainable params: 6,101,671\n",
            "Non-trainable params: 0\n",
            "_________________________________________________________________\n",
            "None\n"
          ]
        }
      ]
    },
    {
      "cell_type": "code",
      "metadata": {
        "id": "AIg2f1HBxqof",
        "outputId": "4fecf262-9b08-4b66-ec06-3718080d0135",
        "colab": {
          "base_uri": "https://localhost:8080/"
        }
      },
      "source": [
        " history = model.fit(predictors, label, epochs=100, verbose=1)"
      ],
      "execution_count": 11,
      "outputs": [
        {
          "output_type": "stream",
          "name": "stdout",
          "text": [
            "Epoch 1/100\n",
            "484/484 [==============================] - 21s 25ms/step - loss: 6.8989 - accuracy: 0.0226\n",
            "Epoch 2/100\n",
            "484/484 [==============================] - 12s 25ms/step - loss: 6.4990 - accuracy: 0.0211\n",
            "Epoch 3/100\n",
            "484/484 [==============================] - 12s 25ms/step - loss: 6.3804 - accuracy: 0.0248\n",
            "Epoch 4/100\n",
            "484/484 [==============================] - 12s 25ms/step - loss: 6.2588 - accuracy: 0.0304\n",
            "Epoch 5/100\n",
            "484/484 [==============================] - 12s 25ms/step - loss: 6.1708 - accuracy: 0.0371\n",
            "Epoch 6/100\n",
            "484/484 [==============================] - 12s 25ms/step - loss: 6.0907 - accuracy: 0.0394\n",
            "Epoch 7/100\n",
            "484/484 [==============================] - 12s 25ms/step - loss: 6.0142 - accuracy: 0.0416\n",
            "Epoch 8/100\n",
            "484/484 [==============================] - 12s 25ms/step - loss: 5.9308 - accuracy: 0.0420\n",
            "Epoch 9/100\n",
            "484/484 [==============================] - 12s 25ms/step - loss: 5.8265 - accuracy: 0.0491\n",
            "Epoch 10/100\n",
            "484/484 [==============================] - 12s 25ms/step - loss: 5.7106 - accuracy: 0.0586\n",
            "Epoch 11/100\n",
            "484/484 [==============================] - 12s 25ms/step - loss: 5.5981 - accuracy: 0.0625\n",
            "Epoch 12/100\n",
            "484/484 [==============================] - 12s 25ms/step - loss: 5.4880 - accuracy: 0.0704\n",
            "Epoch 13/100\n",
            "484/484 [==============================] - 12s 25ms/step - loss: 5.3855 - accuracy: 0.0749\n",
            "Epoch 14/100\n",
            "484/484 [==============================] - 12s 25ms/step - loss: 5.2807 - accuracy: 0.0819\n",
            "Epoch 15/100\n",
            "484/484 [==============================] - 12s 25ms/step - loss: 5.1755 - accuracy: 0.0900\n",
            "Epoch 16/100\n",
            "484/484 [==============================] - 12s 25ms/step - loss: 5.0680 - accuracy: 0.0998\n",
            "Epoch 17/100\n",
            "484/484 [==============================] - 12s 25ms/step - loss: 4.9589 - accuracy: 0.1048\n",
            "Epoch 18/100\n",
            "484/484 [==============================] - 12s 25ms/step - loss: 4.8547 - accuracy: 0.1174\n",
            "Epoch 19/100\n",
            "484/484 [==============================] - 13s 26ms/step - loss: 4.7467 - accuracy: 0.1250\n",
            "Epoch 20/100\n",
            "484/484 [==============================] - 13s 26ms/step - loss: 4.6418 - accuracy: 0.1366\n",
            "Epoch 21/100\n",
            "484/484 [==============================] - 12s 26ms/step - loss: 4.5295 - accuracy: 0.1466\n",
            "Epoch 22/100\n",
            "484/484 [==============================] - 13s 26ms/step - loss: 4.4216 - accuracy: 0.1592\n",
            "Epoch 23/100\n",
            "484/484 [==============================] - 12s 25ms/step - loss: 4.3100 - accuracy: 0.1699\n",
            "Epoch 24/100\n",
            "484/484 [==============================] - 12s 25ms/step - loss: 4.2013 - accuracy: 0.1848\n",
            "Epoch 25/100\n",
            "484/484 [==============================] - 12s 24ms/step - loss: 4.0983 - accuracy: 0.1989\n",
            "Epoch 26/100\n",
            "484/484 [==============================] - 12s 25ms/step - loss: 3.9796 - accuracy: 0.2145\n",
            "Epoch 27/100\n",
            "484/484 [==============================] - 12s 25ms/step - loss: 3.8733 - accuracy: 0.2304\n",
            "Epoch 28/100\n",
            "484/484 [==============================] - 12s 25ms/step - loss: 3.7798 - accuracy: 0.2516\n",
            "Epoch 29/100\n",
            "484/484 [==============================] - 12s 25ms/step - loss: 3.6670 - accuracy: 0.2740\n",
            "Epoch 30/100\n",
            "484/484 [==============================] - 12s 25ms/step - loss: 3.5732 - accuracy: 0.2894\n",
            "Epoch 31/100\n",
            "484/484 [==============================] - 12s 25ms/step - loss: 3.4763 - accuracy: 0.3120\n",
            "Epoch 32/100\n",
            "484/484 [==============================] - 12s 25ms/step - loss: 3.3776 - accuracy: 0.3322\n",
            "Epoch 33/100\n",
            "484/484 [==============================] - 12s 25ms/step - loss: 3.2886 - accuracy: 0.3551\n",
            "Epoch 34/100\n",
            "484/484 [==============================] - 12s 25ms/step - loss: 3.2030 - accuracy: 0.3692\n",
            "Epoch 35/100\n",
            "484/484 [==============================] - 12s 25ms/step - loss: 3.1204 - accuracy: 0.3886\n",
            "Epoch 36/100\n",
            "484/484 [==============================] - 12s 25ms/step - loss: 3.0453 - accuracy: 0.4062\n",
            "Epoch 37/100\n",
            "484/484 [==============================] - 12s 25ms/step - loss: 2.9766 - accuracy: 0.4176\n",
            "Epoch 38/100\n",
            "484/484 [==============================] - 12s 25ms/step - loss: 2.8820 - accuracy: 0.4430\n",
            "Epoch 39/100\n",
            "484/484 [==============================] - 12s 24ms/step - loss: 2.8266 - accuracy: 0.4556\n",
            "Epoch 40/100\n",
            "484/484 [==============================] - 12s 24ms/step - loss: 2.7432 - accuracy: 0.4705\n",
            "Epoch 41/100\n",
            "484/484 [==============================] - 12s 24ms/step - loss: 2.6931 - accuracy: 0.4836\n",
            "Epoch 42/100\n",
            "484/484 [==============================] - 12s 24ms/step - loss: 2.6223 - accuracy: 0.5053\n",
            "Epoch 43/100\n",
            "484/484 [==============================] - 12s 24ms/step - loss: 2.5602 - accuracy: 0.5142\n",
            "Epoch 44/100\n",
            "484/484 [==============================] - 11s 24ms/step - loss: 2.5000 - accuracy: 0.5279\n",
            "Epoch 45/100\n",
            "484/484 [==============================] - 11s 23ms/step - loss: 2.4383 - accuracy: 0.5406\n",
            "Epoch 46/100\n",
            "484/484 [==============================] - 12s 24ms/step - loss: 2.3783 - accuracy: 0.5567\n",
            "Epoch 47/100\n",
            "484/484 [==============================] - 12s 24ms/step - loss: 2.3314 - accuracy: 0.5684\n",
            "Epoch 48/100\n",
            "484/484 [==============================] - 12s 24ms/step - loss: 2.2910 - accuracy: 0.5753\n",
            "Epoch 49/100\n",
            "484/484 [==============================] - 12s 24ms/step - loss: 2.2172 - accuracy: 0.5913\n",
            "Epoch 50/100\n",
            "484/484 [==============================] - 12s 24ms/step - loss: 2.1894 - accuracy: 0.5956\n",
            "Epoch 51/100\n",
            "484/484 [==============================] - 12s 24ms/step - loss: 2.1232 - accuracy: 0.6129\n",
            "Epoch 52/100\n",
            "484/484 [==============================] - 12s 24ms/step - loss: 2.0840 - accuracy: 0.6230\n",
            "Epoch 53/100\n",
            "484/484 [==============================] - 12s 24ms/step - loss: 2.0423 - accuracy: 0.6316\n",
            "Epoch 54/100\n",
            "484/484 [==============================] - 12s 24ms/step - loss: 2.0071 - accuracy: 0.6374\n",
            "Epoch 55/100\n",
            "484/484 [==============================] - 12s 24ms/step - loss: 1.9773 - accuracy: 0.6456\n",
            "Epoch 56/100\n",
            "484/484 [==============================] - 12s 24ms/step - loss: 1.9314 - accuracy: 0.6511\n",
            "Epoch 57/100\n",
            "484/484 [==============================] - 12s 24ms/step - loss: 1.8963 - accuracy: 0.6594\n",
            "Epoch 58/100\n",
            "484/484 [==============================] - 11s 24ms/step - loss: 1.8556 - accuracy: 0.6683\n",
            "Epoch 59/100\n",
            "484/484 [==============================] - 11s 24ms/step - loss: 1.8334 - accuracy: 0.6751\n",
            "Epoch 60/100\n",
            "484/484 [==============================] - 11s 24ms/step - loss: 1.7956 - accuracy: 0.6813\n",
            "Epoch 61/100\n",
            "484/484 [==============================] - 11s 24ms/step - loss: 1.7604 - accuracy: 0.6894\n",
            "Epoch 62/100\n",
            "484/484 [==============================] - 11s 24ms/step - loss: 1.7281 - accuracy: 0.6966\n",
            "Epoch 63/100\n",
            "484/484 [==============================] - 12s 24ms/step - loss: 1.7168 - accuracy: 0.6966\n",
            "Epoch 64/100\n",
            "484/484 [==============================] - 12s 24ms/step - loss: 1.6793 - accuracy: 0.7053\n",
            "Epoch 65/100\n",
            "484/484 [==============================] - 12s 24ms/step - loss: 1.6468 - accuracy: 0.7134\n",
            "Epoch 66/100\n",
            "484/484 [==============================] - 12s 24ms/step - loss: 1.6276 - accuracy: 0.7148\n",
            "Epoch 67/100\n",
            "484/484 [==============================] - 11s 24ms/step - loss: 1.6138 - accuracy: 0.7170\n",
            "Epoch 68/100\n",
            "484/484 [==============================] - 11s 23ms/step - loss: 1.5662 - accuracy: 0.7291\n",
            "Epoch 69/100\n",
            "484/484 [==============================] - 11s 23ms/step - loss: 1.5419 - accuracy: 0.7317\n",
            "Epoch 70/100\n",
            "484/484 [==============================] - 11s 23ms/step - loss: 1.5332 - accuracy: 0.7331\n",
            "Epoch 71/100\n",
            "484/484 [==============================] - 11s 23ms/step - loss: 1.5007 - accuracy: 0.7412\n",
            "Epoch 72/100\n",
            "484/484 [==============================] - 11s 24ms/step - loss: 1.4860 - accuracy: 0.7420\n",
            "Epoch 73/100\n",
            "484/484 [==============================] - 11s 24ms/step - loss: 1.4656 - accuracy: 0.7478\n",
            "Epoch 74/100\n",
            "484/484 [==============================] - 11s 24ms/step - loss: 1.4470 - accuracy: 0.7491\n",
            "Epoch 75/100\n",
            "484/484 [==============================] - 11s 23ms/step - loss: 1.4256 - accuracy: 0.7521\n",
            "Epoch 76/100\n",
            "484/484 [==============================] - 11s 23ms/step - loss: 1.4299 - accuracy: 0.7500\n",
            "Epoch 77/100\n",
            "484/484 [==============================] - 11s 23ms/step - loss: 1.4042 - accuracy: 0.7545\n",
            "Epoch 78/100\n",
            "484/484 [==============================] - 11s 23ms/step - loss: 1.3808 - accuracy: 0.7590\n",
            "Epoch 79/100\n",
            "484/484 [==============================] - 11s 23ms/step - loss: 1.3561 - accuracy: 0.7669\n",
            "Epoch 80/100\n",
            "484/484 [==============================] - 11s 23ms/step - loss: 1.3468 - accuracy: 0.7680\n",
            "Epoch 81/100\n",
            "484/484 [==============================] - 11s 23ms/step - loss: 1.3316 - accuracy: 0.7679\n",
            "Epoch 82/100\n",
            "484/484 [==============================] - 11s 24ms/step - loss: 1.3126 - accuracy: 0.7751\n",
            "Epoch 83/100\n",
            "484/484 [==============================] - 11s 24ms/step - loss: 1.2933 - accuracy: 0.7752\n",
            "Epoch 84/100\n",
            "484/484 [==============================] - 11s 24ms/step - loss: 1.2861 - accuracy: 0.7780\n",
            "Epoch 85/100\n",
            "484/484 [==============================] - 11s 24ms/step - loss: 1.2682 - accuracy: 0.7796\n",
            "Epoch 86/100\n",
            "484/484 [==============================] - 11s 24ms/step - loss: 1.2589 - accuracy: 0.7807\n",
            "Epoch 87/100\n",
            "484/484 [==============================] - 11s 24ms/step - loss: 1.2455 - accuracy: 0.7833\n",
            "Epoch 88/100\n",
            "484/484 [==============================] - 11s 24ms/step - loss: 1.2350 - accuracy: 0.7859\n",
            "Epoch 89/100\n",
            "484/484 [==============================] - 11s 24ms/step - loss: 1.2210 - accuracy: 0.7866\n",
            "Epoch 90/100\n",
            "484/484 [==============================] - 11s 24ms/step - loss: 1.2088 - accuracy: 0.7890\n",
            "Epoch 91/100\n",
            "484/484 [==============================] - 11s 24ms/step - loss: 1.1913 - accuracy: 0.7950\n",
            "Epoch 92/100\n",
            "484/484 [==============================] - 11s 23ms/step - loss: 1.2005 - accuracy: 0.7878\n",
            "Epoch 93/100\n",
            "484/484 [==============================] - 11s 24ms/step - loss: 1.1846 - accuracy: 0.7923\n",
            "Epoch 94/100\n",
            "484/484 [==============================] - 11s 23ms/step - loss: 1.1691 - accuracy: 0.7946\n",
            "Epoch 95/100\n",
            "484/484 [==============================] - 11s 24ms/step - loss: 1.1606 - accuracy: 0.7944\n",
            "Epoch 96/100\n",
            "484/484 [==============================] - 11s 23ms/step - loss: 1.1533 - accuracy: 0.8009\n",
            "Epoch 97/100\n",
            "484/484 [==============================] - 11s 23ms/step - loss: 1.1353 - accuracy: 0.8022\n",
            "Epoch 98/100\n",
            "484/484 [==============================] - 11s 23ms/step - loss: 1.1144 - accuracy: 0.8045\n",
            "Epoch 99/100\n",
            "484/484 [==============================] - 11s 23ms/step - loss: 1.1261 - accuracy: 0.8014\n",
            "Epoch 100/100\n",
            "484/484 [==============================] - 11s 23ms/step - loss: 1.1244 - accuracy: 0.8018\n"
          ]
        }
      ]
    },
    {
      "cell_type": "code",
      "metadata": {
        "id": "1fXTEO3GJ282",
        "outputId": "eed83fc3-e65d-4bf2-b8ba-7e2530fe45a4",
        "colab": {
          "base_uri": "https://localhost:8080/",
          "height": 545
        }
      },
      "source": [
        "import matplotlib.pyplot as plt\n",
        "acc = history.history['accuracy']\n",
        "loss = history.history['loss']\n",
        "\n",
        "epochs = range(len(acc))\n",
        "\n",
        "plt.plot(epochs, acc, 'b', label='Training accuracy')\n",
        "plt.title('Training accuracy')\n",
        "\n",
        "plt.figure()\n",
        "\n",
        "plt.plot(epochs, loss, 'b', label='Training Loss')\n",
        "plt.title('Training loss')\n",
        "plt.legend()\n",
        "\n",
        "plt.show()"
      ],
      "execution_count": 14,
      "outputs": [
        {
          "output_type": "display_data",
          "data": {
            "image/png": "[encoded data removed]",
            "text/plain": [
              "<Figure size 432x288 with 1 Axes>"
            ]
          },
          "metadata": {
            "needs_background": "light"
          }
        },
        {
          "output_type": "display_data",
          "data": {
            "image/png": "[encoded data removed]",
            "text/plain": [
              "<Figure size 432x288 with 1 Axes>"
            ]
          },
          "metadata": {
            "needs_background": "light"
          }
        }
      ]
    },
    {
      "cell_type": "code",
      "metadata": {
        "id": "6Vc6PHgxa6Hm",
        "outputId": "6f7496e4-c9e4-4cae-cc46-05885fe25440",
        "colab": {
          "base_uri": "https://localhost:8080/"
        }
      },
      "source": [
        "seed_text = \"Help me Obi Wan Kenobi, you're my only hope\"\n",
        "next_words = 100\n",
        "  \n",
        "for _ in range(next_words):\n",
        "\ttoken_list = tokenizer.texts_to_sequences([seed_text])[0]\n",
        "\ttoken_list = pad_sequences([token_list], maxlen=max_sequence_len-1, padding='pre')\n",
        "\tpredicted_x = model.predict(token_list)\n",
        "\tpredicted=np.argmax(predicted_x,axis=1)\n",
        "\toutput_word = \"\"\n",
        "\tfor word, index in tokenizer.word_index.items():\n",
        "\t\tif index == predicted:\n",
        "\t\t\toutput_word = word\n",
        "\t\t\tbreak\n",
        "\tseed_text += \" \" + output_word\n",
        "print(seed_text)"
      ],
      "execution_count": 24,
      "outputs": [
        {
          "output_type": "stream",
          "name": "stdout",
          "text": [
            "Help me Obi Wan Kenobi, you're my only hope some tell the heaven on tell such thee so more dear fair moan or wrong in every fashion bide thence ever die grace new bad lived will show thee one respect common pent in thee on thee more bright glory lived have unrespected despised see write to me love live dear eyes live so true mine eye's state on thee lived on seem new muse write heart to hell is white grow vainly say such cause of place of all one part of thee he of room green room live more perpetual down such men still so lies still was\n"
          ]
        }
      ]
    },
    {
      "cell_type": "code",
      "metadata": {
        "id": "bRbWzGU9O6cw"
      },
      "source": [
        ""
      ],
      "execution_count": null,
      "outputs": []
    }
  ]
}