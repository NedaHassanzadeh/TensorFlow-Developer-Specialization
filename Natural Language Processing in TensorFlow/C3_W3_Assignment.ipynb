{
  "nbformat": 4,
  "nbformat_minor": 0,
  "metadata": {
    "accelerator": "GPU",
    "colab": {
      "name": "C3_W3_Assignment.ipynb",
      "provenance": [],
      "toc_visible": true
    },
    "kernelspec": {
      "display_name": "Python 3",
      "language": "python",
      "name": "python3"
    },
    "language_info": {
      "codemirror_mode": {
        "name": "ipython",
        "version": 3
      },
      "file_extension": ".py",
      "mimetype": "text/x-python",
      "name": "python",
      "nbconvert_exporter": "python",
      "pygments_lexer": "ipython3",
      "version": "3.8.5"
    }
  },
  "cells": [
    {
      "cell_type": "code",
      "metadata": {
        "id": "zX4Kg8DUTKWO"
      },
      "source": [
        "#@title Licensed under the Apache License, Version 2.0 (the \"License\");\n",
        "# you may not use this file except in compliance with the License.\n",
        "# You may obtain a copy of the License at\n",
        "#\n",
        "# https://www.apache.org/licenses/LICENSE-2.0\n",
        "#\n",
        "# Unless required by applicable law or agreed to in writing, software\n",
        "# distributed under the License is distributed on an \"AS IS\" BASIS,\n",
        "# WITHOUT WARRANTIES OR CONDITIONS OF ANY KIND, either express or implied.\n",
        "# See the License for the specific language governing permissions and\n",
        "# limitations under the License."
      ],
      "execution_count": 5,
      "outputs": []
    },
    {
      "cell_type": "markdown",
      "metadata": {
        "id": "gnU1TV9kV5f9"
      },
      "source": [
        "**Note:** This notebook can run using TensorFlow 2.5.0"
      ]
    },
    {
      "cell_type": "code",
      "metadata": {
        "id": "qTZDRvo5V5f9"
      },
      "source": [
        "#!pip install tensorflow==2.5.0"
      ],
      "execution_count": 6,
      "outputs": []
    },
    {
      "cell_type": "code",
      "metadata": {
        "id": "hmA6EzkQJ5jt"
      },
      "source": [
        "import json\n",
        "import tensorflow as tf\n",
        "import csv\n",
        "import random\n",
        "import numpy as np\n",
        "\n",
        "from tensorflow.keras.preprocessing.text import Tokenizer\n",
        "from tensorflow.keras.preprocessing.sequence import pad_sequences\n",
        "from tensorflow.keras.utils import to_categorical\n",
        "from tensorflow.keras import regularizers\n",
        "\n",
        "\n",
        "embedding_dim = 100\n",
        "max_length = 16\n",
        "trunc_type='post'\n",
        "padding_type='post'\n",
        "oov_tok = \"<OOV>\"\n",
        "training_size=160000   #Your dataset size here. Experiment using smaller values (i.e. 16000), but don't forget to train on at least 160000 to see the best effects\n",
        "test_portion=.1\n",
        "\n",
        "corpus = []\n"
      ],
      "execution_count": 7,
      "outputs": []
    },
    {
      "cell_type": "code",
      "metadata": {
        "id": "bM0l_dORKqE0",
        "outputId": "75388fba-1842-4f17-f60b-ac1629dfd463",
        "colab": {
          "base_uri": "https://localhost:8080/"
        }
      },
      "source": [
        "# Note that I cleaned the Stanford dataset to remove LATIN1 encoding to make it easier for Python CSV reader\n",
        "# You can do that yourself with:\n",
        "# iconv -f LATIN1 -t UTF8 training.1600000.processed.noemoticon.csv -o training_cleaned.csv\n",
        "\n",
        "# training_cleaned.csv\n",
        "!gdown --id 1wd8KaeCSHxt-nEpMeuHFSNWrDp8joUXJ\n",
        "\n",
        "num_sentences = 0\n",
        "\n",
        "with open(\"./training_cleaned.csv\") as csvfile:\n",
        "    reader = csv.reader(csvfile, delimiter=',')\n",
        "    for row in reader:\n",
        "        list_item=[]\n",
        "        \n",
        "        ### START CODE HERE\n",
        "        list_item.append(row[5])\n",
        "        this_label=row[0]\n",
        "        if this_label=='0':\n",
        "            list_item.append(0)\n",
        "        else:\n",
        "            list_item.append(1)\n",
        "\n",
        "    \n",
        "        #Create list items where the first item is the text, found in row[5], and the second is the label. Note that the label is a '0' or a '4' in the text. When it's the former, make\n",
        "        # your label to be 0, otherwise 1. Keep a count of the number of sentences in num_sentences\n",
        "        ### END CODE HERE\n",
        "        \n",
        "        num_sentences = num_sentences + 1\n",
        "        corpus.append(list_item)\n"
      ],
      "execution_count": 8,
      "outputs": [
        {
          "output_type": "stream",
          "name": "stdout",
          "text": [
            "Downloading...\n",
            "From: https://drive.google.com/uc?id=1wd8KaeCSHxt-nEpMeuHFSNWrDp8joUXJ\n",
            "To: /content/training_cleaned.csv\n",
            "239MB [00:01, 127MB/s]\n"
          ]
        }
      ]
    },
    {
      "cell_type": "code",
      "metadata": {
        "id": "3kxblBUjEUX-",
        "outputId": "41bd4bf1-075a-4dba-b4ff-2da20db2dfaa",
        "colab": {
          "base_uri": "https://localhost:8080/"
        }
      },
      "source": [
        "print(num_sentences)\n",
        "print(len(corpus))\n",
        "print(corpus[1])\n",
        "\n",
        "# Expected Output:\n",
        "# 1600000\n",
        "# 1600000\n",
        "# [\"is upset that he can't update his Facebook by texting it... and might cry as a result  School today also. Blah!\", 0]"
      ],
      "execution_count": 9,
      "outputs": [
        {
          "output_type": "stream",
          "name": "stdout",
          "text": [
            "1600000\n",
            "1600000\n",
            "[\"is upset that he can't update his Facebook by texting it... and might cry as a result  School today also. Blah!\", 0]\n"
          ]
        }
      ]
    },
    {
      "cell_type": "code",
      "metadata": {
        "id": "ohOGz24lsNAD"
      },
      "source": [
        "sentences=[]\n",
        "labels=[]\n",
        "random.shuffle(corpus)\n",
        "for x in range(training_size):\n",
        "    sentences.append(corpus[x][0])  # YOUR CODE HERE\n",
        "    labels.append(corpus[x][1])   # YOUR CODE HERE\n",
        "\n",
        "\n",
        "tokenizer = Tokenizer()\n",
        "tokenizer.fit_on_texts(sentences) # YOUR CODE HERE\n",
        "\n",
        "word_index = tokenizer.word_index\n",
        "vocab_size=len(word_index)    # YOUR CODE HERE\n",
        "\n",
        "sequences = tokenizer.texts_to_sequences(sentences)  # YOUR CODE HERE\n",
        "padded = pad_sequences(sequences,maxlen=max_length, padding=padding_type, truncating=trunc_type)  # YOUR CODE HERE\n",
        "\n",
        "split = int(test_portion * training_size)\n",
        "\n",
        "test_sequences = padded[0 : split]  # YOUR CODE HERE\n",
        "training_sequences = padded[split : training_size]  # YOUR CODE HERE\n",
        "test_labels = labels[0 : split]   # YOUR CODE HERE\n",
        "training_labels = labels[split : training_size]  # YOUR CODE HERE"
      ],
      "execution_count": 11,
      "outputs": []
    },
    {
      "cell_type": "code",
      "metadata": {
        "id": "gIrtRem1En3N",
        "outputId": "e8ea188b-4517-45b9-c11a-4e09dcaadcf4",
        "colab": {
          "base_uri": "https://localhost:8080/"
        }
      },
      "source": [
        "print(vocab_size)\n",
        "print(word_index['i'])\n",
        "# Expected Output\n",
        "# 138856\n",
        "# 1"
      ],
      "execution_count": 12,
      "outputs": [
        {
          "output_type": "stream",
          "name": "stdout",
          "text": [
            "138188\n",
            "1\n"
          ]
        }
      ]
    },
    {
      "cell_type": "code",
      "metadata": {
        "id": "C1zdgJkusRh0",
        "outputId": "b64f3cb7-dbb5-48a1-f5a7-add1d7669986",
        "colab": {
          "base_uri": "https://localhost:8080/"
        }
      },
      "source": [
        "# Note this is the 100 dimension version of GloVe from Stanford\n",
        "\n",
        "# glove.6B.100d.txt\n",
        "!gdown --id 1W5vZy2etitAblLdFn8_DxnsQKzfFJ98g\n",
        "\n",
        "embeddings_index = {};\n",
        "with open('./glove.6B.100d.txt') as f:\n",
        "    for line in f:\n",
        "        values = line.split();\n",
        "        word = values[0];\n",
        "        coefs = np.asarray(values[1:], dtype='float32');\n",
        "        embeddings_index[word] = coefs;\n",
        "\n",
        "embeddings_matrix = np.zeros((vocab_size+1, embedding_dim));\n",
        "for word, i in word_index.items():\n",
        "    embedding_vector = embeddings_index.get(word);\n",
        "    if embedding_vector is not None:\n",
        "        embeddings_matrix[i] = embedding_vector;"
      ],
      "execution_count": 13,
      "outputs": [
        {
          "output_type": "stream",
          "name": "stdout",
          "text": [
            "Downloading...\n",
            "From: https://drive.google.com/uc?id=1W5vZy2etitAblLdFn8_DxnsQKzfFJ98g\n",
            "To: /content/glove.6B.100d.txt\n",
            "347MB [00:03, 87.2MB/s]\n"
          ]
        }
      ]
    },
    {
      "cell_type": "code",
      "metadata": {
        "id": "71NLk_lpFLNt",
        "outputId": "4ed17417-bf5d-4276-9932-f59b6d3061e8",
        "colab": {
          "base_uri": "https://localhost:8080/"
        }
      },
      "source": [
        "print(len(embeddings_matrix))\n",
        "# Expected Output\n",
        "# 138857"
      ],
      "execution_count": 14,
      "outputs": [
        {
          "output_type": "stream",
          "name": "stdout",
          "text": [
            "138189\n"
          ]
        }
      ]
    },
    {
      "cell_type": "code",
      "metadata": {
        "id": "iKKvbuEBOGFz",
        "outputId": "85d52367-0d96-4071-fb42-30ca82c1fc3f",
        "colab": {
          "base_uri": "https://localhost:8080/"
        }
      },
      "source": [
        "model = tf.keras.Sequential([\n",
        "    tf.keras.layers.Embedding(vocab_size+1, embedding_dim, input_length=max_length, weights=[embeddings_matrix], trainable=False),\n",
        "    tf.keras.layers.Dropout(0.2),\n",
        "    tf.keras.layers.Conv1D(64, 5, activation='relu'),\n",
        "    tf.keras.layers.MaxPooling1D(pool_size=4),\n",
        "    tf.keras.layers.LSTM(64),\n",
        "    tf.keras.layers.Dense(1, activation='sigmoid')\n",
        "    # YOUR CODE HERE - experiment with combining different types, such as convolutions and LSTMs\n",
        "])\n",
        "model.compile(loss='binary_crossentropy',optimizer='adam',metrics=['accuracy']) # YOUR CODE HERE\n",
        "model.summary()\n",
        "\n",
        "num_epochs = 50\n",
        "\n",
        "training_padded = np.array(training_sequences)\n",
        "training_labels = np.array(training_labels)\n",
        "testing_padded = np.array(test_sequences)\n",
        "testing_labels = np.array(test_labels)\n",
        "\n",
        "\n",
        "history = model.fit(training_padded, training_labels, epochs=num_epochs, validation_data=(testing_padded, testing_labels), verbose=2)\n",
        "\n",
        "print(\"Training Complete\")\n"
      ],
      "execution_count": 18,
      "outputs": [
        {
          "output_type": "stream",
          "name": "stdout",
          "text": [
            "Model: \"sequential_2\"\n",
            "_________________________________________________________________\n",
            "Layer (type)                 Output Shape              Param #   \n",
            "=================================================================\n",
            "embedding_2 (Embedding)      (None, 16, 100)           13818900  \n",
            "_________________________________________________________________\n",
            "dropout_2 (Dropout)          (None, 16, 100)           0         \n",
            "_________________________________________________________________\n",
            "conv1d_2 (Conv1D)            (None, 12, 64)            32064     \n",
            "_________________________________________________________________\n",
            "max_pooling1d_2 (MaxPooling1 (None, 3, 64)             0         \n",
            "_________________________________________________________________\n",
            "lstm_2 (LSTM)                (None, 64)                33024     \n",
            "_________________________________________________________________\n",
            "dense_2 (Dense)              (None, 1)                 65        \n",
            "=================================================================\n",
            "Total params: 13,884,053\n",
            "Trainable params: 65,153\n",
            "Non-trainable params: 13,818,900\n",
            "_________________________________________________________________\n",
            "Epoch 1/50\n",
            "4500/4500 - 46s - loss: 0.5673 - accuracy: 0.6991 - val_loss: 0.5262 - val_accuracy: 0.7314\n",
            "Epoch 2/50\n",
            "4500/4500 - 17s - loss: 0.5278 - accuracy: 0.7310 - val_loss: 0.5173 - val_accuracy: 0.7403\n",
            "Epoch 3/50\n",
            "4500/4500 - 17s - loss: 0.5111 - accuracy: 0.7432 - val_loss: 0.5186 - val_accuracy: 0.7397\n",
            "Epoch 4/50\n",
            "4500/4500 - 17s - loss: 0.4999 - accuracy: 0.7519 - val_loss: 0.5013 - val_accuracy: 0.7546\n",
            "Epoch 5/50\n",
            "4500/4500 - 17s - loss: 0.4914 - accuracy: 0.7563 - val_loss: 0.5003 - val_accuracy: 0.7567\n",
            "Epoch 6/50\n",
            "4500/4500 - 17s - loss: 0.4841 - accuracy: 0.7628 - val_loss: 0.5052 - val_accuracy: 0.7468\n",
            "Epoch 7/50\n",
            "4500/4500 - 17s - loss: 0.4792 - accuracy: 0.7644 - val_loss: 0.4996 - val_accuracy: 0.7540\n",
            "Epoch 8/50\n",
            "4500/4500 - 17s - loss: 0.4741 - accuracy: 0.7670 - val_loss: 0.4983 - val_accuracy: 0.7570\n",
            "Epoch 9/50\n",
            "4500/4500 - 17s - loss: 0.4708 - accuracy: 0.7714 - val_loss: 0.4960 - val_accuracy: 0.7588\n",
            "Epoch 10/50\n",
            "4500/4500 - 17s - loss: 0.4655 - accuracy: 0.7734 - val_loss: 0.5043 - val_accuracy: 0.7565\n",
            "Epoch 11/50\n",
            "4500/4500 - 17s - loss: 0.4625 - accuracy: 0.7760 - val_loss: 0.5020 - val_accuracy: 0.7564\n",
            "Epoch 12/50\n",
            "4500/4500 - 17s - loss: 0.4591 - accuracy: 0.7765 - val_loss: 0.5039 - val_accuracy: 0.7552\n",
            "Epoch 13/50\n",
            "4500/4500 - 17s - loss: 0.4568 - accuracy: 0.7784 - val_loss: 0.5051 - val_accuracy: 0.7559\n",
            "Epoch 14/50\n",
            "4500/4500 - 17s - loss: 0.4545 - accuracy: 0.7804 - val_loss: 0.5048 - val_accuracy: 0.7558\n",
            "Epoch 15/50\n",
            "4500/4500 - 17s - loss: 0.4521 - accuracy: 0.7820 - val_loss: 0.5076 - val_accuracy: 0.7546\n",
            "Epoch 16/50\n",
            "4500/4500 - 17s - loss: 0.4489 - accuracy: 0.7841 - val_loss: 0.5037 - val_accuracy: 0.7500\n",
            "Epoch 17/50\n",
            "4500/4500 - 17s - loss: 0.4468 - accuracy: 0.7849 - val_loss: 0.5074 - val_accuracy: 0.7534\n",
            "Epoch 18/50\n",
            "4500/4500 - 16s - loss: 0.4471 - accuracy: 0.7847 - val_loss: 0.5090 - val_accuracy: 0.7522\n",
            "Epoch 19/50\n",
            "4500/4500 - 17s - loss: 0.4459 - accuracy: 0.7856 - val_loss: 0.5113 - val_accuracy: 0.7539\n",
            "Epoch 20/50\n",
            "4500/4500 - 17s - loss: 0.4442 - accuracy: 0.7869 - val_loss: 0.5106 - val_accuracy: 0.7514\n",
            "Epoch 21/50\n",
            "4500/4500 - 17s - loss: 0.4428 - accuracy: 0.7880 - val_loss: 0.5110 - val_accuracy: 0.7565\n",
            "Epoch 22/50\n",
            "4500/4500 - 16s - loss: 0.4419 - accuracy: 0.7875 - val_loss: 0.5099 - val_accuracy: 0.7533\n",
            "Epoch 23/50\n",
            "4500/4500 - 17s - loss: 0.4411 - accuracy: 0.7890 - val_loss: 0.5084 - val_accuracy: 0.7550\n",
            "Epoch 24/50\n",
            "4500/4500 - 17s - loss: 0.4399 - accuracy: 0.7898 - val_loss: 0.5077 - val_accuracy: 0.7546\n",
            "Epoch 25/50\n",
            "4500/4500 - 16s - loss: 0.4393 - accuracy: 0.7883 - val_loss: 0.5090 - val_accuracy: 0.7574\n",
            "Epoch 26/50\n",
            "4500/4500 - 17s - loss: 0.4383 - accuracy: 0.7898 - val_loss: 0.5155 - val_accuracy: 0.7533\n",
            "Epoch 27/50\n",
            "4500/4500 - 17s - loss: 0.4370 - accuracy: 0.7913 - val_loss: 0.5110 - val_accuracy: 0.7542\n",
            "Epoch 28/50\n",
            "4500/4500 - 17s - loss: 0.4348 - accuracy: 0.7930 - val_loss: 0.5127 - val_accuracy: 0.7562\n",
            "Epoch 29/50\n",
            "4500/4500 - 17s - loss: 0.4359 - accuracy: 0.7918 - val_loss: 0.5097 - val_accuracy: 0.7548\n",
            "Epoch 30/50\n",
            "4500/4500 - 17s - loss: 0.4342 - accuracy: 0.7926 - val_loss: 0.5142 - val_accuracy: 0.7552\n",
            "Epoch 31/50\n",
            "4500/4500 - 17s - loss: 0.4351 - accuracy: 0.7912 - val_loss: 0.5189 - val_accuracy: 0.7537\n",
            "Epoch 32/50\n",
            "4500/4500 - 17s - loss: 0.4332 - accuracy: 0.7933 - val_loss: 0.5164 - val_accuracy: 0.7502\n",
            "Epoch 33/50\n",
            "4500/4500 - 17s - loss: 0.4323 - accuracy: 0.7940 - val_loss: 0.5136 - val_accuracy: 0.7521\n",
            "Epoch 34/50\n",
            "4500/4500 - 17s - loss: 0.4334 - accuracy: 0.7933 - val_loss: 0.5173 - val_accuracy: 0.7509\n",
            "Epoch 35/50\n",
            "4500/4500 - 17s - loss: 0.4327 - accuracy: 0.7938 - val_loss: 0.5149 - val_accuracy: 0.7525\n",
            "Epoch 36/50\n",
            "4500/4500 - 17s - loss: 0.4318 - accuracy: 0.7949 - val_loss: 0.5145 - val_accuracy: 0.7527\n",
            "Epoch 37/50\n",
            "4500/4500 - 17s - loss: 0.4317 - accuracy: 0.7939 - val_loss: 0.5227 - val_accuracy: 0.7504\n",
            "Epoch 38/50\n",
            "4500/4500 - 17s - loss: 0.4320 - accuracy: 0.7944 - val_loss: 0.5146 - val_accuracy: 0.7511\n",
            "Epoch 39/50\n",
            "4500/4500 - 17s - loss: 0.4307 - accuracy: 0.7946 - val_loss: 0.5186 - val_accuracy: 0.7525\n",
            "Epoch 40/50\n",
            "4500/4500 - 17s - loss: 0.4294 - accuracy: 0.7959 - val_loss: 0.5158 - val_accuracy: 0.7517\n",
            "Epoch 41/50\n",
            "4500/4500 - 17s - loss: 0.4292 - accuracy: 0.7954 - val_loss: 0.5286 - val_accuracy: 0.7516\n",
            "Epoch 42/50\n",
            "4500/4500 - 17s - loss: 0.4298 - accuracy: 0.7950 - val_loss: 0.5181 - val_accuracy: 0.7532\n",
            "Epoch 43/50\n",
            "4500/4500 - 17s - loss: 0.4297 - accuracy: 0.7950 - val_loss: 0.5221 - val_accuracy: 0.7448\n",
            "Epoch 44/50\n",
            "4500/4500 - 17s - loss: 0.4284 - accuracy: 0.7966 - val_loss: 0.5182 - val_accuracy: 0.7498\n",
            "Epoch 45/50\n",
            "4500/4500 - 17s - loss: 0.4298 - accuracy: 0.7959 - val_loss: 0.5172 - val_accuracy: 0.7494\n",
            "Epoch 46/50\n",
            "4500/4500 - 17s - loss: 0.4287 - accuracy: 0.7963 - val_loss: 0.5176 - val_accuracy: 0.7502\n",
            "Epoch 47/50\n",
            "4500/4500 - 16s - loss: 0.4285 - accuracy: 0.7966 - val_loss: 0.5164 - val_accuracy: 0.7506\n",
            "Epoch 48/50\n",
            "4500/4500 - 17s - loss: 0.4276 - accuracy: 0.7967 - val_loss: 0.5254 - val_accuracy: 0.7500\n",
            "Epoch 49/50\n",
            "4500/4500 - 17s - loss: 0.4274 - accuracy: 0.7970 - val_loss: 0.5183 - val_accuracy: 0.7504\n",
            "Epoch 50/50\n",
            "4500/4500 - 17s - loss: 0.4280 - accuracy: 0.7961 - val_loss: 0.5194 - val_accuracy: 0.7481\n",
            "Training Complete\n"
          ]
        }
      ]
    },
    {
      "cell_type": "code",
      "metadata": {
        "id": "qxju4ItJKO8F",
        "outputId": "71a48af0-b696-4cd8-968e-501e62c90564",
        "colab": {
          "base_uri": "https://localhost:8080/",
          "height": 607
        }
      },
      "source": [
        "import matplotlib.image  as mpimg\n",
        "import matplotlib.pyplot as plt\n",
        "\n",
        "#-----------------------------------------------------------\n",
        "# Retrieve a list of list results on training and test data\n",
        "# sets for each training epoch\n",
        "#-----------------------------------------------------------\n",
        "acc=history.history['accuracy']\n",
        "val_acc=history.history['val_accuracy']\n",
        "loss=history.history['loss']\n",
        "val_loss=history.history['val_loss']\n",
        "\n",
        "epochs=range(len(acc)) # Get number of epochs\n",
        "\n",
        "#------------------------------------------------\n",
        "# Plot training and validation accuracy per epoch\n",
        "#------------------------------------------------\n",
        "plt.plot(epochs, acc, 'r')\n",
        "plt.plot(epochs, val_acc, 'b')\n",
        "plt.title('Training and validation accuracy')\n",
        "plt.xlabel(\"Epochs\")\n",
        "plt.ylabel(\"Accuracy\")\n",
        "plt.legend([\"Accuracy\", \"Validation Accuracy\"])\n",
        "\n",
        "plt.figure()\n",
        "\n",
        "#------------------------------------------------\n",
        "# Plot training and validation loss per epoch\n",
        "#------------------------------------------------\n",
        "plt.plot(epochs, loss, 'r')\n",
        "plt.plot(epochs, val_loss, 'b')\n",
        "plt.title('Training and validation loss')\n",
        "plt.xlabel(\"Epochs\")\n",
        "plt.ylabel(\"Loss\")\n",
        "plt.legend([\"Loss\", \"Validation Loss\"])\n",
        "\n",
        "plt.figure()\n",
        "\n",
        "\n",
        "# Expected Output\n",
        "# A chart where the validation loss does not increase sharply!"
      ],
      "execution_count": 19,
      "outputs": [
        {
          "output_type": "execute_result",
          "data": {
            "text/plain": [
              "<Figure size 432x288 with 0 Axes>"
            ]
          },
          "metadata": {},
          "execution_count": 19
        },
        {
          "output_type": "display_data",
          "data": {
            "image/png": "[encoded data removed]",
            "text/plain": [
              "<Figure size 432x288 with 1 Axes>"
            ]
          },
          "metadata": {
            "needs_background": "light"
          }
        },
        {
          "output_type": "display_data",
          "data": {
            "image/png": "[encoded data removed]",
            "text/plain": [
              "<Figure size 432x288 with 1 Axes>"
            ]
          },
          "metadata": {
            "needs_background": "light"
          }
        },
        {
          "output_type": "display_data",
          "data": {
            "text/plain": [
              "<Figure size 432x288 with 0 Axes>"
            ]
          },
          "metadata": {}
        }
      ]
    },
    {
      "cell_type": "code",
      "metadata": {
        "id": "zvZFrhDxB6ng"
      },
      "source": [
        ""
      ],
      "execution_count": null,
      "outputs": []
    }
  ]
}